{
 "cells": [
  {
   "cell_type": "code",
   "execution_count": null,
   "id": "6663b040",
   "metadata": {},
   "outputs": [
    {
     "name": "stdout",
     "output_type": "stream",
     "text": [
      "Creating new Ultralytics Settings v0.0.6 file  \n",
      "View Ultralytics Settings with 'yolo settings' or at 'C:\\Users\\Egor\\AppData\\Roaming\\Ultralytics\\settings.json'\n",
      "Update Settings with 'yolo settings key=value', i.e. 'yolo settings runs_dir=path/to/dir'. For help see https://docs.ultralytics.com/quickstart/#ultralytics-settings.\n"
     ]
    }
   ],
   "source": [
    "import os\n",
    "import cv2\n",
    "import time\n",
    "\n",
    "from ultralytics import YOLO\n"
   ]
  },
  {
   "cell_type": "code",
   "execution_count": 1,
   "id": "3f6dde44",
   "metadata": {},
   "outputs": [
    {
     "name": "stdout",
     "output_type": "stream",
     "text": [
      "2.5.1+cu121\n",
      "True\n"
     ]
    }
   ],
   "source": [
    "import torch\n",
    "print(torch.__version__)          # Должно быть: 2.x.x+cuXXX (например, 2.3.0+cu118)\n",
    "print(torch.cuda.is_available())  # Должно быть True"
   ]
  },
  {
   "cell_type": "code",
   "execution_count": 25,
   "id": "0bc0374f",
   "metadata": {},
   "outputs": [],
   "source": [
    "from pathlib import Path\n",
    "\n",
    "images_path = Path('C:/Users/Egor/Desktop/ss/AI-Flow-Detecting/ai-core/dataset/train_2/obj_train_data')\n",
    "\n",
    "for img_file in images_path.glob(\"*.jpg\"):\n",
    "    txt_file = img_file.with_suffix('.txt')\n",
    "    if not txt_file.exists():\n",
    "        img_file.unlink()  # Удаление .jpg без .txt\n",
    "        print(f\"Удалено: {img_file}\")\n",
    "\n"
   ]
  },
  {
   "cell_type": "code",
   "execution_count": null,
   "id": "f0f84603",
   "metadata": {},
   "outputs": [
    {
     "ename": "SyntaxError",
     "evalue": "invalid syntax. Perhaps you forgot a comma? (4196264475.py, line 28)",
     "output_type": "error",
     "traceback": [
      "  \u001b[36mCell\u001b[39m\u001b[36m \u001b[39m\u001b[32mIn[1]\u001b[39m\u001b[32m, line 28\u001b[39m\n\u001b[31m    \u001b[39m\u001b[31mamp=True\u001b[39m\n        ^\n\u001b[31mSyntaxError\u001b[39m\u001b[31m:\u001b[39m invalid syntax. Perhaps you forgot a comma?\n"
     ]
    }
   ],
   "source": [
    "from ultralytics import YOLO\n",
    "import yaml\n",
    "import os\n",
    "from pathlib import Path\n",
    "import torch\n",
    "\n",
    "device = 0 if torch.cuda.is_available() else 'cpu'\n",
    "print(f\"Используется: {device}\")\n",
    "\n",
    "model = YOLO('yolov10m.pt').to(device)\n",
    "\n",
    "model.train(\n",
    "    data='data.yaml',\n",
    "    epochs=40,\n",
    "    imgsz=640,\n",
    "    batch=16,\n",
    "    device=device,\n",
    "    name='yolov10n_bus_stop_finetuned',\n",
    "    augment=True,\n",
    "    patience=15,\n",
    "    optimizer='AdamW',\n",
    "    lr0=1e-3,\n",
    "    iou=0.5,\n",
    "    conf=0.25,\n",
    "    project='runs/train',\n",
    "    workers=4,\n",
    "    cache=True,\n",
    "    amp=True,\n",
    "    #epochs=100,               # Больше эпох\n",
    "    #batch=32,                # Увеличенный batch\n",
    "    #hsv_h=0.015,             # Настройки HSV\n",
    "    #hsv_s=0.7,\n",
    "    #hsv_v=0.4,\n",
    "    #translate=0.2,           # Сдвиг\n",
    "    #fliplr=0.5,              # Отражение\n",
    "    #mosaic=1.0,              # Мозаика\n",
    "    #mixup=0.2,              # Mixup\n",
    "    #patience=10,             # Ранняя остановка\n",
    "    #lr0=3e-4,               # Скорость обучения\n",
    "    #lrf=0.01,               # Final LR (1% от lr0)\n",
    "    #iou=0.7,                # Более строгий IoU\n",
    "    #rect=True,              # Прямоугольное обучение\n",
    "    #cache='ram',            # Кеширование в RAM\n",
    "    #amp=True,               # Mixed precision\n",
    "    #plots=True,             # Графики в TensorBoard\n",
    ")\n",
    "\n",
    "model.save('models/yolov10n_best.pt')\n",
    "print(\"✅ Модель дообучена и сохранена.\")"
   ]
  },
  {
   "cell_type": "code",
   "execution_count": null,
   "id": "1126aeb3",
   "metadata": {},
   "outputs": [
    {
     "name": "stdout",
     "output_type": "stream",
     "text": [
      "🔍 Запуск предсказания на тестовых данных...\n",
      "\n",
      "image 1/1 c:\\Users\\Egor\\Desktop\\ss\\AI-Flow-Detecting\\ai-core\\dataset\\test\\images\\20250810_130413.jpg: 384x640 22 humans, 20.7ms\n",
      "Speed: 1.9ms preprocess, 20.7ms inference, 0.4ms postprocess per image at shape (1, 3, 384, 640)\n",
      "Results saved to \u001b[1mc:\\Users\\Egor\\Desktop\\ss\\AI-Flow-Detecting\\runs\\detect\\predict_test6\u001b[0m\n",
      "1 label saved to c:\\Users\\Egor\\Desktop\\ss\\AI-Flow-Detecting\\runs\\detect\\predict_test6\\labels\n",
      "\n",
      "📊 Оценка метрик модели...\n",
      "Ultralytics 8.3.177  Python-3.12.5 torch-2.5.1+cu121 CUDA:0 (NVIDIA GeForce RTX 4060 Laptop GPU, 8188MiB)\n",
      "\u001b[34m\u001b[1mval: \u001b[0mFast image access  (ping: 0.00.0 ms, read: 3026.6560.0 MB/s, size: 489.1 KB)\n"
     ]
    },
    {
     "name": "stderr",
     "output_type": "stream",
     "text": [
      "\u001b[34m\u001b[1mval: \u001b[0mScanning C:\\Users\\Egor\\Desktop\\ss\\AI-Flow-Detecting\\ai-core\\dataset\\train_1\\obj_train_data.cache... 52 images, 0 backgrounds, 0 corrupt: 100%|██████████| 52/52 [00:00<?, ?it/s]\n",
      "                 Class     Images  Instances      Box(P          R      mAP50  mAP50-95): 100%|██████████| 4/4 [00:03<00:00,  1.20it/s]\n"
     ]
    },
    {
     "name": "stdout",
     "output_type": "stream",
     "text": [
      "                   all         52        109      0.153     0.0275     0.0658      0.019\n",
      "                 human         52        109      0.153     0.0275     0.0658      0.019\n",
      "Speed: 1.6ms preprocess, 14.0ms inference, 0.0ms loss, 0.2ms postprocess per image\n",
      "Results saved to \u001b[1mc:\\Users\\Egor\\Desktop\\ss\\AI-Flow-Detecting\\runs\\detect\\val_metrics6\u001b[0m\n",
      "\n",
      "📌 Итоговые метрики:\n",
      "mAP@0.5: 0.019\n",
      "mAP@0.5:0.95: 0.066\n",
      "\n",
      "📈 Визуализация кривых обучения...\n"
     ]
    },
    {
     "data": {
      "text/plain": [
       "<Figure size 1500x1000 with 4 Axes>"
      ]
     },
     "metadata": {},
     "output_type": "display_data"
    },
    {
     "name": "stdout",
     "output_type": "stream",
     "text": [
      "\n",
      "🖼️ Примеры предсказаний:\n",
      "⚠️ Не удалось загрузить пример предсказания\n",
      "\n",
      "✅ Анализ завершён!\n"
     ]
    }
   ],
   "source": [
    "from ultralytics import YOLO\n",
    "import pandas as pd\n",
    "import matplotlib.pyplot as plt\n",
    "from PIL import Image\n",
    "\n",
    "# --- 1. Загрузка модели ---\n",
    "model = YOLO(\"runs/train/yolov10n_bus_stop_finetuned24/weights/best.pt\")\n",
    "\n",
    "# --- 2. Тестирование на изображениях ---\n",
    "print(\"🔍 Запуск предсказания на тестовых данных...\")\n",
    "results = model.predict(\n",
    "    source=\"dataset/test/images\",\n",
    "    imgsz=640,\n",
    "    conf=0.25,\n",
    "    save=True,\n",
    "    save_txt=True,\n",
    "    name=\"predict_test\"  # папка для сохранения результатов\n",
    ")\n",
    "\n",
    "# --- 3. Оценка метрик на валидационном наборе ---\n",
    "print(\"\\n📊 Оценка метрик модели...\")\n",
    "metrics = model.val(\n",
    "    data=\"data.yaml\",\n",
    "    split=\"val\",\n",
    "    batch=16,\n",
    "    imgsz=640,\n",
    "    conf=0.25,\n",
    "    iou=0.6,\n",
    "    device=\"0\",\n",
    "    plots=True,\n",
    "    name=\"val_metrics\"\n",
    ")\n",
    "\n",
    "# Вывод ключевых метрик\n",
    "print(f\"\\n📌 Итоговые метрики:\")\n",
    "print(f\"mAP@0.5: {metrics.box.map:.3f}\")\n",
    "print(f\"mAP@0.5:0.95: {metrics.box.map50:.3f}\")\n",
    "\n",
    "# --- 4. Анализ графиков обучения ---\n",
    "try:\n",
    "    print(\"\\n📈 Визуализация кривых обучения...\")\n",
    "    results_csv = pd.read_csv(\"runs/train/yolov10n_bus_stop_finetuned24/results.csv\")\n",
    "    \n",
    "    plt.figure(figsize=(15, 10))\n",
    "    \n",
    "    # График Precision-Recall\n",
    "    plt.subplot(2, 2, 1)\n",
    "    plt.plot(results_csv[\"epoch\"], results_csv[\"metrics/precision(B)\"], label=\"Precision\")\n",
    "    plt.plot(results_csv[\"epoch\"], results_csv[\"metrics/recall(B)\"], label=\"Recall\")\n",
    "    plt.title(\"Precision & Recall\")\n",
    "    plt.legend()\n",
    "    \n",
    "    # График mAP\n",
    "    plt.subplot(2, 2, 2)\n",
    "    plt.plot(results_csv[\"epoch\"], results_csv[\"metrics/mAP50(B)\"], label=\"mAP@0.5\")\n",
    "    plt.plot(results_csv[\"epoch\"], results_csv[\"metrics/mAP50-95(B)\"], label=\"mAP@0.5:0.95\")\n",
    "    plt.title(\"mAP Metrics\")\n",
    "    plt.legend()\n",
    "    \n",
    "    # График потерь при обучении\n",
    "    plt.subplot(2, 2, 3)\n",
    "    plt.plot(results_csv[\"epoch\"], results_csv[\"train/box_loss\"], label=\"Box Loss\")\n",
    "    plt.plot(results_csv[\"epoch\"], results_csv[\"train/cls_loss\"], label=\"Cls Loss\")\n",
    "    plt.title(\"Training Losses\")\n",
    "    plt.legend()\n",
    "    \n",
    "    # График потерь на валидации\n",
    "    plt.subplot(2, 2, 4)\n",
    "    plt.plot(results_csv[\"epoch\"], results_csv[\"val/box_loss\"], label=\"Val Box Loss\")\n",
    "    plt.plot(results_csv[\"epoch\"], results_csv[\"val/cls_loss\"], label=\"Val Cls Loss\")\n",
    "    plt.title(\"Validation Losses\")\n",
    "    plt.legend()\n",
    "    \n",
    "    plt.tight_layout()\n",
    "    plt.show()\n",
    "\n",
    "except FileNotFoundError:\n",
    "    print(\"⚠️ Файл results.csv не найден!\")\n",
    "\n",
    "# --- 5. Визуализация примеров предсказаний ---\n",
    "print(\"\\n🖼️ Примеры предсказаний:\")\n",
    "try:\n",
    "    # Показываем первое сохранённое предсказание\n",
    "    pred_image = Image.open(\"runs/detect/predict_test/image0.jpg\")\n",
    "    plt.figure(figsize=(10, 8))\n",
    "    plt.imshow(pred_image)\n",
    "    plt.axis('off')\n",
    "    plt.title(\"Пример предсказания\")\n",
    "    plt.show()\n",
    "except:\n",
    "    print(\"⚠️ Не удалось загрузить пример предсказания\")\n",
    "\n",
    "print(\"\\n✅ Анализ завершён!\")"
   ]
  },
  {
   "cell_type": "code",
   "execution_count": 30,
   "id": "34fe0bcd",
   "metadata": {},
   "outputs": [
    {
     "name": "stdout",
     "output_type": "stream",
     "text": [
      "Ultralytics 8.3.177  Python-3.12.5 torch-2.5.1+cu121 CUDA:0 (NVIDIA GeForce RTX 4060 Laptop GPU, 8188MiB)\n",
      "\u001b[34m\u001b[1mval: \u001b[0mFast image access  (ping: 0.10.0 ms, read: 142.987.0 MB/s, size: 501.6 KB)\n"
     ]
    },
    {
     "name": "stderr",
     "output_type": "stream",
     "text": [
      "\u001b[34m\u001b[1mval: \u001b[0mScanning C:\\Users\\Egor\\Desktop\\ss\\AI-Flow-Detecting\\ai-core\\dataset\\train_1\\obj_train_data.cache... 52 images, 0 backgrounds, 0 corrupt: 100%|██████████| 52/52 [00:00<?, ?it/s]\n",
      "                 Class     Images  Instances      Box(P          R      mAP50  mAP50-95): 100%|██████████| 4/4 [00:03<00:00,  1.20it/s]\n"
     ]
    },
    {
     "name": "stdout",
     "output_type": "stream",
     "text": [
      "                   all         52        109      0.153     0.0275     0.0658      0.019\n",
      "                 human         52        109      0.153     0.0275     0.0658      0.019\n",
      "Speed: 1.5ms preprocess, 12.7ms inference, 0.0ms loss, 0.3ms postprocess per image\n",
      "Results saved to \u001b[1mc:\\Users\\Egor\\Desktop\\ss\\AI-Flow-Detecting\\runs\\detect\\val2\u001b[0m\n"
     ]
    }
   ],
   "source": [
    "metrics = model.val(\n",
    "    data=\"data.yaml\",\n",
    "    imgsz=640,\n",
    "    conf=0.25\n",
    ")"
   ]
  },
  {
   "cell_type": "markdown",
   "id": "b3edcb8d",
   "metadata": {},
   "source": [
    "# Подсчёт пассажиров в видеопотоке"
   ]
  },
  {
   "cell_type": "code",
   "execution_count": 33,
   "id": "5f6e30e3",
   "metadata": {},
   "outputs": [],
   "source": [
    "# from ultralytics import YOLO\n",
    "\n",
    "# model = YOLO('runs/train/yolov10n_bus_stop_finetuned24/weights/best.pt')\n",
    "\n",
    "# # Запуск трекинга на видео\n",
    "# model.track(\n",
    "#     source='video.mp4',\n",
    "#     tracker='bytetrack.yaml',  # можно 'deepsort.yaml'\n",
    "#     conf=0.5,\n",
    "#     save=True\n",
    "# )\n"
   ]
  },
  {
   "cell_type": "code",
   "execution_count": 35,
   "id": "2d7f019f",
   "metadata": {},
   "outputs": [],
   "source": [
    "# # упрощённый фрагмент\n",
    "# if hasattr(res, 'masks') and res.masks is not None:\n",
    "#     im_with_masks = res.masks.render(res.orig_img)  # иногда работает напрямую\n",
    "#     frame = im_with_masks\n"
   ]
  },
  {
   "cell_type": "code",
   "execution_count": 34,
   "id": "835f2e3b",
   "metadata": {},
   "outputs": [],
   "source": [
    "# def dice_coef(gt_mask, pred_mask):\n",
    "#     gt = gt_mask.astype(bool)\n",
    "#     pr = pred_mask.astype(bool)\n",
    "#     inter = (gt & pr).sum()\n",
    "#     return 2*inter / (gt.sum() + pr.sum() + 1e-6)\n"
   ]
  }
 ],
 "metadata": {
  "kernelspec": {
   "display_name": ".venv (3.12.5)",
   "language": "python",
   "name": "python3"
  },
  "language_info": {
   "codemirror_mode": {
    "name": "ipython",
    "version": 3
   },
   "file_extension": ".py",
   "mimetype": "text/x-python",
   "name": "python",
   "nbconvert_exporter": "python",
   "pygments_lexer": "ipython3",
   "version": "3.12.5"
  }
 },
 "nbformat": 4,
 "nbformat_minor": 5
}
