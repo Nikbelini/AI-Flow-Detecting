{
 "cells": [
  {
   "cell_type": "markdown",
   "id": "b7651baa",
   "metadata": {},
   "source": [
    "# Приступаем к работе  \n",
    "\n",
    "Находим датасет и приступаем к предобработке"
   ]
  },
  {
   "cell_type": "code",
   "execution_count": null,
   "id": "73a6248c",
   "metadata": {},
   "outputs": [],
   "source": []
  },
  {
   "cell_type": "markdown",
   "id": "b2b4fc3a",
   "metadata": {},
   "source": []
  }
 ],
 "metadata": {
  "kernelspec": {
   "display_name": "mai (3.12.6)",
   "language": "python",
   "name": "python3"
  },
  "language_info": {
   "name": "python",
   "version": "3.12.6"
  }
 },
 "nbformat": 4,
 "nbformat_minor": 5
}
