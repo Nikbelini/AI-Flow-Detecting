from ultralytics import YOLO
import cv2

# Загрузка предобученной модели YOLOv8 (можно 'yolov8n.pt', 'yolov8s.pt' и т.д.)
model = YOLO('yolov8n.pt')  # nano-версия (быстрая, но менее точная)

# Загрузка изображения

#image = cv2.imread('2.png')
image = cv2.imread('test_photo.webp')

# Детекция людей (класс '0' в COCO = человек)
results = model(image, classes=[0])  

# Визуализация результатов
annotated_image = results[0].plot()  # Рисует bounding boxes
cv2.imshow('Detected People', annotated_image)
cv2.waitKey(0)
cv2.destroyAllWindows()

# Подсчёт количества людей
people_count = len(results[0].boxes)
print(f"Количество людей на фото: {people_count}")
