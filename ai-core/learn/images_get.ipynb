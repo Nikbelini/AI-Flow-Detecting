{
 "cells": [
  {
   "cell_type": "markdown",
   "id": "52dce061",
   "metadata": {},
   "source": [
    "# Получение кадров с трансляции"
   ]
  },
  {
   "cell_type": "code",
   "execution_count": null,
   "id": "883b2591",
   "metadata": {},
   "outputs": [],
   "source": [
    "import os\n",
    "import cv2\n",
    "import time\n",
    "\n",
    "from ultralytics import YOLO"
   ]
  },
  {
   "cell_type": "code",
   "execution_count": null,
   "id": "11657e77",
   "metadata": {},
   "outputs": [],
   "source": [
    "# capture_frames.py\n",
    "\n",
    "\n",
    "RTSP_URL = \"https://restreamer.vms.evo73.ru/918335436b92ac26/stream.m3u8\"  # подставь свой поток\n",
    "OUT_DIR = \"dataset/images\"\n",
    "os.makedirs(OUT_DIR, exist_ok=True)\n",
    "\n",
    "cap = cv2.VideoCapture(RTSP_URL)\n",
    "fps = cap.get(cv2.CAP_PROP_FPS) or 25\n",
    "grab_every = int(fps)  # один кадр в секунду (при fps ~1 кадр/sec, уменьшить)\n",
    "\n",
    "i = 0\n",
    "saved = 0\n",
    "while True:\n",
    "    ret, frame = cap.read()\n",
    "    if not ret:\n",
    "        time.sleep(0.5)\n",
    "        continue\n",
    "    if i % grab_every == 0:\n",
    "        fname = f\"{saved:06d}.jpg\"\n",
    "        cv2.imwrite(os.path.join(OUT_DIR, fname), frame)\n",
    "        saved += 1\n",
    "        print(\"Saved\", fname)\n",
    "    i += 1\n",
    "    # остановка вручную:\n",
    "    if saved >= 500:  # например 500 кадров\n",
    "        break\n",
    "\n",
    "cap.release()\n"
   ]
  },
  {
   "cell_type": "markdown",
   "id": "aa6c2678",
   "metadata": {},
   "source": [
    "# Работа с Yolo и разметка кадров"
   ]
  },
  {
   "cell_type": "code",
   "execution_count": null,
   "id": "f7c3c6aa",
   "metadata": {},
   "outputs": [],
   "source": [
    "from ultralytics import YOLO\n",
    "import os, json\n",
    "\n",
    "model = YOLO('yolov10n.pt')  # предобученная\n",
    "img_dir = \"dataset/images\"\n",
    "out_ann_dir = \"dataset/labels\" \n",
    "os.makedirs(out_ann_dir, exist_ok=True)\n",
    "\n",
    "for img in os.listdir(img_dir):\n",
    "    if not img.endswith('.jpg'): continue\n",
    "    res = model.predict(os.path.join(img_dir,img), imgsz=640, conf=0.3)\n",
    "    # res[0].boxes.xyxyn, res[0].boxes.cls, res[0].masks ... можно парсить и сохранять YOLO txt\n",
    "    boxes = res[0].boxes\n",
    "    h, w = res[0].orig_shape\n",
    "    lines = []\n",
    "    for b in boxes:\n",
    "        x1,y1,x2,y2 = b.xyxy[0].tolist()\n",
    "        cls = int(b.cls[0].item())\n",
    "        # convert to yolo format\n",
    "        cx = ((x1 + x2) / 2) / w\n",
    "        cy = ((y1 + y2) / 2) / h\n",
    "        bw = (x2 - x1) / w\n",
    "        bh = (y2 - y1) / h\n",
    "        lines.append(f\"{cls} {cx:.6f} {cy:.6f} {bw:.6f} {bh:.6f}\")\n",
    "    with open(os.path.join(out_ann_dir, img.replace('.jpg','.txt')), 'w') as f:\n",
    "        f.write(\"\\n\".join(lines))\n"
   ]
  }
 ],
 "metadata": {
  "kernelspec": {
   "display_name": "mai (3.12.6)",
   "language": "python",
   "name": "python3"
  },
  "language_info": {
   "name": "python",
   "version": "3.12.6"
  }
 },
 "nbformat": 4,
 "nbformat_minor": 5
}
