{
 "cells": [
  {
   "cell_type": "code",
   "execution_count": null,
   "id": "6663b040",
   "metadata": {},
   "outputs": [],
   "source": [
    "import os\n",
    "import cv2\n",
    "import time\n",
    "\n",
    "from ultralytics import YOLO\n"
   ]
  },
  {
   "cell_type": "code",
   "execution_count": null,
   "id": "fd720198",
   "metadata": {},
   "outputs": [],
   "source": [
    "# Загрузка предобученной модели YOLOv10 (можно 'yolov10n.pt', 'yolov10s.pt' или yolov10m.pt)\n",
    "# model = YOLO('yolov10n.pt')  # nano-версия (быстрая, но менее точная)\n",
    "\n",
    "model = YOLO('yolov10m.pt')  # рекомендуемая модель к обучению\n",
    "\n",
    "# Обучение модели\n",
    "results = model.train(data='dataset/data.yaml', epochs=100, imgsz=640, model='yolov8=10m.pt')"
   ]
  },
  {
   "cell_type": "markdown",
   "id": "2f6220cd",
   "metadata": {},
   "source": [
    "# подумать с моделью!"
   ]
  },
  {
   "cell_type": "code",
   "execution_count": null,
   "id": "4053843d",
   "metadata": {},
   "outputs": [],
   "source": [
    "model = YOLO('yolov8s-seg.pt')  # или yolov8n-seg.pt для быстрого старта\n",
    "model.train(data='data.yaml', epochs=100, imgsz=640, batch=16,\n",
    "            augment=True, lr0=0.01, patience=50, project='runs/exp_passengers')\n"
   ]
  },
  {
   "cell_type": "code",
   "execution_count": null,
   "id": "68822098",
   "metadata": {},
   "outputs": [],
   "source": [
    "# Загружаем предобученную модель YOLOv10m\n",
    "model = YOLO('yolov10m.pt')  # уже обучена на COCO\n",
    "\n",
    "# Тренировка (fine-tuning)\n",
    "model.train(\n",
    "    data='data.yaml',       # путь к твоему датасету\n",
    "    epochs=150,             # побольше эпох для дообучения\n",
    "    imgsz=1280,             # больше размер — лучше детект людей\n",
    "    batch=16,               # уменьшить, если мало памяти\n",
    "    optimizer=\"AdamW\",      # лучше для стабильности\n",
    "    lr0=0.002,              # чуть меньше, чтобы не \"затирать\" предобученные веса\n",
    "    patience=50,            # ранняя остановка, если метрика не растёт\n",
    "    augment=True,           # включаем аугментации !!!!\n",
    "    close_mosaic=15,        # отключаем mosaic ближе к концу\n",
    "    project='runs/passengers',\n",
    "    name='yolov8m-passengers',\n",
    "    pretrained=True         # дообучаем предобученные веса\n",
    ")\n"
   ]
  },
  {
   "cell_type": "code",
   "execution_count": null,
   "id": "f0f84603",
   "metadata": {},
   "outputs": [],
   "source": [
    "# train.py\n",
    "from ultralytics import YOLO\n",
    "import torch\n",
    "\n",
    "# Выбираем устройство\n",
    "device = 'cuda' if torch.cuda.is_available() else 'cpu'\n",
    "print(f\"Используется: {device}\")\n",
    "\n",
    "# Загружаем предобученную модель\n",
    "model = YOLO('yolov10n.pt')  # можно yolov8s.pt для точности\n",
    "\n",
    "# Обучение\n",
    "model.train(\n",
    "    data='data.yaml',\n",
    "    epochs=100,\n",
    "    imgsz=640,\n",
    "    batch=16,\n",
    "    device=device,\n",
    "    name='yolov10n_bus_stop_finetuned',\n",
    "    augment=True,\n",
    "    patience=15,\n",
    "    optimizer='AdamW',\n",
    "    lr0=1e-3,\n",
    "    iou=0.5,\n",
    "    conf=0.25,\n",
    "    project='runs/train'\n",
    ")\n",
    "\n",
    "# Сохранение\n",
    "model.save('models/yolov10n_best.pt')\n",
    "print(\"✅ Модель дообучена и сохранена.\")"
   ]
  },
  {
   "cell_type": "code",
   "execution_count": null,
   "id": "1126aeb3",
   "metadata": {},
   "outputs": [],
   "source": [
    "# Загружаем лучшую сохранённую модель\n",
    "model = YOLO(\"runs/passenger_flow/yolov10m_person/weights/best.pt\")\n",
    "\n",
    "# Предсказание на папке с картинками\n",
    "results = model.predict(\n",
    "    source=\"dataset/test/images\",\n",
    "    imgsz=640,\n",
    "    conf=0.25,  # минимальная уверенность\n",
    "    save=True,   # сохранить предсказания\n",
    "    save_txt=True\n",
    ")"
   ]
  },
  {
   "cell_type": "code",
   "execution_count": null,
   "id": "34fe0bcd",
   "metadata": {},
   "outputs": [],
   "source": [
    "metrics = model.val(\n",
    "    data=\"dataset/data.yaml\",\n",
    "    imgsz=640,\n",
    "    conf=0.25\n",
    ")"
   ]
  },
  {
   "cell_type": "markdown",
   "id": "b3edcb8d",
   "metadata": {},
   "source": [
    "# Подсчёт пассажиров в видеопотоке"
   ]
  },
  {
   "cell_type": "code",
   "execution_count": null,
   "id": "5f6e30e3",
   "metadata": {},
   "outputs": [],
   "source": [
    "from ultralytics import YOLO\n",
    "\n",
    "model = YOLO('best.pt')\n",
    "\n",
    "# Запуск трекинга на видео\n",
    "model.track(\n",
    "    source='video.mp4',\n",
    "    tracker='bytetrack.yaml',  # можно 'deepsort.yaml'\n",
    "    conf=0.5,\n",
    "    save=True\n",
    ")\n"
   ]
  },
  {
   "cell_type": "code",
   "execution_count": null,
   "id": "2d7f019f",
   "metadata": {},
   "outputs": [],
   "source": [
    "# упрощённый фрагмент\n",
    "if hasattr(res, 'masks') and res.masks is not None:\n",
    "    im_with_masks = res.masks.render(res.orig_img)  # иногда работает напрямую\n",
    "    frame = im_with_masks\n"
   ]
  },
  {
   "cell_type": "code",
   "execution_count": null,
   "id": "835f2e3b",
   "metadata": {},
   "outputs": [],
   "source": [
    "def dice_coef(gt_mask, pred_mask):\n",
    "    gt = gt_mask.astype(bool)\n",
    "    pr = pred_mask.astype(bool)\n",
    "    inter = (gt & pr).sum()\n",
    "    return 2*inter / (gt.sum() + pr.sum() + 1e-6)\n"
   ]
  }
 ],
 "metadata": {
  "kernelspec": {
   "display_name": "mai (3.12.6)",
   "language": "python",
   "name": "python3"
  },
  "language_info": {
   "codemirror_mode": {
    "name": "ipython",
    "version": 3
   },
   "file_extension": ".py",
   "mimetype": "text/x-python",
   "name": "python",
   "nbconvert_exporter": "python",
   "pygments_lexer": "ipython3",
   "version": "3.12.6"
  }
 },
 "nbformat": 4,
 "nbformat_minor": 5
}
