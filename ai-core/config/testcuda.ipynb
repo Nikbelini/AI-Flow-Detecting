{
 "cells": [
  {
   "cell_type": "markdown",
   "id": "bdb66f19",
   "metadata": {},
   "source": [
    "# Проверка работы Cuda!  "
   ]
  },
  {
   "cell_type": "code",
   "execution_count": 2,
   "id": "a62e12ed",
   "metadata": {},
   "outputs": [
    {
     "name": "stdout",
     "output_type": "stream",
     "text": [
      "Tue Aug 12 01:23:49 2025       \n",
      "+-----------------------------------------------------------------------------------------+\n",
      "| NVIDIA-SMI 573.22                 Driver Version: 573.22         CUDA Version: 12.8     |\n",
      "|-----------------------------------------+------------------------+----------------------+\n",
      "| GPU  Name                  Driver-Model | Bus-Id          Disp.A | Volatile Uncorr. ECC |\n",
      "| Fan  Temp   Perf          Pwr:Usage/Cap |           Memory-Usage | GPU-Util  Compute M. |\n",
      "|                                         |                        |               MIG M. |\n",
      "|=========================================+========================+======================|\n",
      "|   0  NVIDIA GeForce RTX 4060 ...  WDDM  |   00000000:01:00.0 Off |                  N/A |\n",
      "| N/A   50C    P5              5W /   75W |    2751MiB /   8188MiB |     34%      Default |\n",
      "|                                         |                        |                  N/A |\n",
      "+-----------------------------------------+------------------------+----------------------+\n",
      "                                                                                         \n",
      "+-----------------------------------------------------------------------------------------+\n",
      "| Processes:                                                                              |\n",
      "|  GPU   GI   CI              PID   Type   Process name                        GPU Memory |\n",
      "|        ID   ID                                                               Usage      |\n",
      "|=========================================================================================|\n",
      "|    0   N/A  N/A            5712    C+G   ..._cw5n1h2txyewy\\SearchHost.exe      N/A      |\n",
      "|    0   N/A  N/A           10728    C+G   ...2txyewy\\CrossDeviceResume.exe      N/A      |\n",
      "|    0   N/A  N/A           11324    C+G   ...Telegram Desktop\\Telegram.exe      N/A      |\n",
      "|    0   N/A  N/A           12280    C+G   ...indows\\System32\\ShellHost.exe      N/A      |\n",
      "|    0   N/A  N/A           13172    C+G   ...y\\StartMenuExperienceHost.exe      N/A      |\n",
      "|    0   N/A  N/A           13408    C+G   ...8bbwe\\PhoneExperienceHost.exe      N/A      |\n",
      "|    0   N/A  N/A           14400    C+G   ...0.3351.121\\msedgewebview2.exe      N/A      |\n",
      "|    0   N/A  N/A           15696      C   ...s\\Python\\Python312\\python.exe      N/A      |\n",
      "|    0   N/A  N/A           16264    C+G   ...5n1h2txyewy\\TextInputHost.exe      N/A      |\n",
      "|    0   N/A  N/A           16680    C+G   ...crosoft OneDrive\\OneDrive.exe      N/A      |\n",
      "|    0   N/A  N/A           16996    C+G   ...ms\\Microsoft VS Code\\Code.exe      N/A      |\n",
      "|    0   N/A  N/A           19384      C   ...s\\Python\\Python312\\python.exe      N/A      |\n",
      "+-----------------------------------------------------------------------------------------+\n"
     ]
    }
   ],
   "source": [
    "!nvidia-smi"
   ]
  },
  {
   "cell_type": "code",
   "execution_count": 3,
   "id": "c0f073f8",
   "metadata": {},
   "outputs": [
    {
     "name": "stdout",
     "output_type": "stream",
     "text": [
      "nvcc: NVIDIA (R) Cuda compiler driver\n",
      "Copyright (c) 2005-2025 NVIDIA Corporation\n",
      "Built on Wed_Jul_16_20:06:48_Pacific_Daylight_Time_2025\n",
      "Cuda compilation tools, release 13.0, V13.0.48\n",
      "Build cuda_13.0.r13.0/compiler.36260728_0\n"
     ]
    }
   ],
   "source": [
    "!nvcc --version"
   ]
  },
  {
   "cell_type": "code",
   "execution_count": 4,
   "id": "a2e2176b",
   "metadata": {},
   "outputs": [
    {
     "name": "stdout",
     "output_type": "stream",
     "text": [
      "✅ torch version: 2.5.1+cu121\n",
      "✅ CUDA available: True\n",
      "✅ CUDA device name: NVIDIA GeForce RTX 4060 Laptop GPU\n",
      "✅ CUDA device count: 1\n"
     ]
    }
   ],
   "source": [
    "import torch\n",
    "\n",
    "def test_cuda():\n",
    "    print(\"✅ torch version:\", torch.__version__)\n",
    "    print(\"✅ CUDA available:\", torch.cuda.is_available())\n",
    "\n",
    "    if torch.cuda.is_available():\n",
    "        print(\"✅ CUDA device name:\", torch.cuda.get_device_name(0))\n",
    "        print(\"✅ CUDA device count:\", torch.cuda.device_count())\n",
    "    else:\n",
    "        print(\"❌ CUDA не доступна. Проверь установку PyTorch и драйверов.\")\n",
    "\n",
    "if __name__ == \"__main__\":\n",
    "    test_cuda()\n"
   ]
  },
  {
   "cell_type": "code",
   "execution_count": 5,
   "id": "81993fe2",
   "metadata": {},
   "outputs": [
    {
     "name": "stdout",
     "output_type": "stream",
     "text": [
      "True\n",
      "NVIDIA GeForce RTX 4060 Laptop GPU\n",
      "\n",
      "a + b = tensor([[1.4612, 1.2028, 0.6266],\n",
      "        [0.8159, 0.8137, 1.1259],\n",
      "        [0.8849, 1.4762, 1.6054]], device='cuda:0')\n",
      "\n",
      "Вычислено на: cuda\n"
     ]
    }
   ],
   "source": [
    "print(torch.cuda.is_available())\n",
    "print(torch.cuda.get_device_name(0) if torch.cuda.is_available() else \"No CUDA device\")\n",
    "\n",
    "print()\n",
    "\n",
    "device = torch.device(\"cuda\" if torch.cuda.is_available() else \"cpu\")\n",
    "\n",
    "a = torch.rand(3, 3).to(device)\n",
    "b = torch.rand(3, 3).to(device)\n",
    "c = a + b\n",
    "\n",
    "print(\"a + b =\", c)\n",
    "print(\"\\nВычислено на:\", device)"
   ]
  }
 ],
 "metadata": {
  "kernelspec": {
   "display_name": ".venv (3.12.5)",
   "language": "python",
   "name": "python3"
  },
  "language_info": {
   "codemirror_mode": {
    "name": "ipython",
    "version": 3
   },
   "file_extension": ".py",
   "mimetype": "text/x-python",
   "name": "python",
   "nbconvert_exporter": "python",
   "pygments_lexer": "ipython3",
   "version": "3.12.5"
  }
 },
 "nbformat": 4,
 "nbformat_minor": 5
}
