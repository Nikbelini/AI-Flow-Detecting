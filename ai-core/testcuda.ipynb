{
 "cells": [
  {
   "cell_type": "code",
   "execution_count": 21,
   "id": "a62e12ed",
   "metadata": {},
   "outputs": [
    {
     "name": "stdout",
     "output_type": "stream",
     "text": [
      "Thu Aug  7 15:01:54 2025       \n",
      "+-----------------------------------------------------------------------------------------+\n",
      "| NVIDIA-SMI 572.61                 Driver Version: 572.61         CUDA Version: 12.8     |\n",
      "|-----------------------------------------+------------------------+----------------------+\n",
      "| GPU  Name                  Driver-Model | Bus-Id          Disp.A | Volatile Uncorr. ECC |\n",
      "| Fan  Temp   Perf          Pwr:Usage/Cap |           Memory-Usage | GPU-Util  Compute M. |\n",
      "|                                         |                        |               MIG M. |\n",
      "|=========================================+========================+======================|\n",
      "|   0  NVIDIA GeForce RTX 3070 ...  WDDM  |   00000000:01:00.0 Off |                  N/A |\n",
      "| N/A   34C    P8             16W /   10W |       0MiB /   8192MiB |      0%      Default |\n",
      "|                                         |                        |                  N/A |\n",
      "+-----------------------------------------+------------------------+----------------------+\n",
      "                                                                                         \n",
      "+-----------------------------------------------------------------------------------------+\n",
      "| Processes:                                                                              |\n",
      "|  GPU   GI   CI              PID   Type   Process name                        GPU Memory |\n",
      "|        ID   ID                                                               Usage      |\n",
      "|=========================================================================================|\n",
      "|  No running processes found                                                             |\n",
      "+-----------------------------------------------------------------------------------------+\n"
     ]
    }
   ],
   "source": [
    "!nvidia-smi"
   ]
  },
  {
   "cell_type": "code",
   "execution_count": 22,
   "id": "c0f073f8",
   "metadata": {},
   "outputs": [
    {
     "name": "stdout",
     "output_type": "stream",
     "text": [
      "nvcc: NVIDIA (R) Cuda compiler driver\n",
      "Copyright (c) 2005-2022 NVIDIA Corporation\n",
      "Built on Wed_Sep_21_10:41:10_Pacific_Daylight_Time_2022\n",
      "Cuda compilation tools, release 11.8, V11.8.89\n",
      "Build cuda_11.8.r11.8/compiler.31833905_0\n"
     ]
    }
   ],
   "source": [
    "!nvcc --version"
   ]
  },
  {
   "cell_type": "code",
   "execution_count": 23,
   "id": "a2e2176b",
   "metadata": {},
   "outputs": [
    {
     "name": "stdout",
     "output_type": "stream",
     "text": [
      "✅ torch version: 2.8.0+cpu\n",
      "✅ CUDA available: False\n",
      "❌ CUDA не доступна. Проверь установку PyTorch и драйверов.\n"
     ]
    }
   ],
   "source": [
    "import torch\n",
    "\n",
    "def test_cuda():\n",
    "    print(\"✅ torch version:\", torch.__version__)\n",
    "    print(\"✅ CUDA available:\", torch.cuda.is_available())\n",
    "\n",
    "    if torch.cuda.is_available():\n",
    "        print(\"✅ CUDA device name:\", torch.cuda.get_device_name(0))\n",
    "        print(\"✅ CUDA device count:\", torch.cuda.device_count())\n",
    "    else:\n",
    "        print(\"❌ CUDA не доступна. Проверь установку PyTorch и драйверов.\")\n",
    "\n",
    "if __name__ == \"__main__\":\n",
    "    test_cuda()\n"
   ]
  },
  {
   "cell_type": "code",
   "execution_count": 24,
   "id": "81993fe2",
   "metadata": {},
   "outputs": [
    {
     "name": "stdout",
     "output_type": "stream",
     "text": [
      "False\n",
      "No CUDA device\n",
      "\n",
      "a + b = tensor([[1.2822, 0.9008, 0.4030],\n",
      "        [1.5037, 1.4284, 1.3728],\n",
      "        [0.6004, 1.2033, 1.2072]])\n",
      "\n",
      "Вычислено на: cpu\n"
     ]
    }
   ],
   "source": [
    "print(torch.cuda.is_available())\n",
    "print(torch.cuda.get_device_name(0) if torch.cuda.is_available() else \"No CUDA device\")\n",
    "\n",
    "print()\n",
    "\n",
    "device = torch.device(\"cuda\" if torch.cuda.is_available() else \"cpu\")\n",
    "\n",
    "a = torch.rand(3, 3).to(device)\n",
    "b = torch.rand(3, 3).to(device)\n",
    "c = a + b\n",
    "\n",
    "print(\"a + b =\", c)\n",
    "print(\"\\nВычислено на:\", device)"
   ]
  },
  {
   "cell_type": "code",
   "execution_count": 25,
   "id": "e2369cc8",
   "metadata": {},
   "outputs": [
    {
     "name": "stdout",
     "output_type": "stream",
     "text": [
      "GPU Available: []\n"
     ]
    }
   ],
   "source": [
    "import tensorflow as tf\n",
    "print(\"GPU Available:\", tf.config.list_physical_devices('GPU'))"
   ]
  }
 ],
 "metadata": {
  "kernelspec": {
   "display_name": "mai (3.12.6)",
   "language": "python",
   "name": "python3"
  },
  "language_info": {
   "codemirror_mode": {
    "name": "ipython",
    "version": 3
   },
   "file_extension": ".py",
   "mimetype": "text/x-python",
   "name": "python",
   "nbconvert_exporter": "python",
   "pygments_lexer": "ipython3",
   "version": "3.12.6"
  }
 },
 "nbformat": 4,
 "nbformat_minor": 5
}
